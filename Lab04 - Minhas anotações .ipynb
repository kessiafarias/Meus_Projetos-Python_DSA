{
 "cells": [
  {
   "cell_type": "markdown",
   "id": "c763eb2a",
   "metadata": {},
   "source": [
    "Concatenar Strings"
   ]
  },
  {
   "cell_type": "code",
   "execution_count": 35,
   "id": "ae92994b",
   "metadata": {},
   "outputs": [
    {
     "name": "stdout",
     "output_type": "stream",
     "text": [
      "Maria Kessia\n"
     ]
    }
   ],
   "source": [
    "nome1 = 'Maria'\n",
    "nome2 = 'Kessia'\n",
    "\n",
    "completo = nome1 + ' ' + nome2\n",
    "print(completo)"
   ]
  },
  {
   "cell_type": "markdown",
   "id": "b0dc6b96",
   "metadata": {},
   "source": [
    "Indexar Strings"
   ]
  },
  {
   "cell_type": "code",
   "execution_count": 42,
   "id": "2b8034b8",
   "metadata": {},
   "outputs": [
    {
     "data": {
      "text/plain": [
       "'Maria Kessia'"
      ]
     },
     "execution_count": 42,
     "metadata": {},
     "output_type": "execute_result"
    }
   ],
   "source": [
    "x = 'Maria Kessia'\n",
    "x"
   ]
  },
  {
   "cell_type": "code",
   "execution_count": 10,
   "id": "7d13dffd",
   "metadata": {},
   "outputs": [
    {
     "data": {
      "text/plain": [
       "'K'"
      ]
     },
     "execution_count": 10,
     "metadata": {},
     "output_type": "execute_result"
    }
   ],
   "source": [
    "x[6]"
   ]
  },
  {
   "cell_type": "code",
   "execution_count": 11,
   "id": "6b618ea3",
   "metadata": {},
   "outputs": [
    {
     "data": {
      "text/plain": [
       "'Ke'"
      ]
     },
     "execution_count": 11,
     "metadata": {},
     "output_type": "execute_result"
    }
   ],
   "source": [
    "x[6:8]"
   ]
  },
  {
   "cell_type": "code",
   "execution_count": 43,
   "id": "36ddb8bc",
   "metadata": {},
   "outputs": [
    {
     "data": {
      "text/plain": [
       "'i'"
      ]
     },
     "execution_count": 43,
     "metadata": {},
     "output_type": "execute_result"
    }
   ],
   "source": [
    "x[-2]"
   ]
  },
  {
   "cell_type": "markdown",
   "id": "436d72d1",
   "metadata": {},
   "source": [
    "Fatiar Strings - Slice"
   ]
  },
  {
   "cell_type": "code",
   "execution_count": 19,
   "id": "3fa91870",
   "metadata": {},
   "outputs": [
    {
     "data": {
      "text/plain": [
       "'M i'"
      ]
     },
     "execution_count": 19,
     "metadata": {},
     "output_type": "execute_result"
    }
   ],
   "source": [
    "x[::5]"
   ]
  },
  {
   "cell_type": "code",
   "execution_count": 20,
   "id": "1dd31b4a",
   "metadata": {},
   "outputs": [
    {
     "data": {
      "text/plain": [
       "'MraKsi'"
      ]
     },
     "execution_count": 20,
     "metadata": {},
     "output_type": "execute_result"
    }
   ],
   "source": [
    "x[::2]"
   ]
  },
  {
   "cell_type": "markdown",
   "id": "532af67a",
   "metadata": {},
   "source": [
    "Concatenar String na Variável"
   ]
  },
  {
   "cell_type": "code",
   "execution_count": 44,
   "id": "6430f3f4",
   "metadata": {
    "scrolled": true
   },
   "outputs": [
    {
     "data": {
      "text/plain": [
       "'Maria Kessia Oliveira'"
      ]
     },
     "execution_count": 44,
     "metadata": {},
     "output_type": "execute_result"
    }
   ],
   "source": [
    "x = x + ' Oliveira'\n",
    "x"
   ]
  },
  {
   "cell_type": "markdown",
   "id": "c1d7bece",
   "metadata": {},
   "source": [
    "Funções Bilt-in de Strings"
   ]
  },
  {
   "cell_type": "code",
   "execution_count": 46,
   "id": "7910d9ae",
   "metadata": {},
   "outputs": [
    {
     "data": {
      "text/plain": [
       "'MARIA KESSIA OLIVEIRA'"
      ]
     },
     "execution_count": 46,
     "metadata": {},
     "output_type": "execute_result"
    }
   ],
   "source": [
    "x.upper() # Converteu tudo para maiúsculo"
   ]
  },
  {
   "cell_type": "code",
   "execution_count": 47,
   "id": "14c0c8ea",
   "metadata": {},
   "outputs": [
    {
     "data": {
      "text/plain": [
       "'maria kessia oliveira'"
      ]
     },
     "execution_count": 47,
     "metadata": {},
     "output_type": "execute_result"
    }
   ],
   "source": [
    "x.lower()  # Converteu tudo para mainúsculo"
   ]
  },
  {
   "cell_type": "code",
   "execution_count": 51,
   "id": "2fc8410d",
   "metadata": {},
   "outputs": [
    {
     "data": {
      "text/plain": [
       "['Maria', 'Kessia', 'Oliveira']"
      ]
     },
     "execution_count": 51,
     "metadata": {},
     "output_type": "execute_result"
    }
   ],
   "source": [
    "x.split() # Quebrou o nome por espaço"
   ]
  },
  {
   "cell_type": "code",
   "execution_count": 54,
   "id": "a311699c",
   "metadata": {},
   "outputs": [
    {
     "data": {
      "text/plain": [
       "['Maria ', 'essia Oliveira']"
      ]
     },
     "execution_count": 54,
     "metadata": {},
     "output_type": "execute_result"
    }
   ],
   "source": [
    "x.split('K') # Quebrou o nome por elemento específico"
   ]
  },
  {
   "cell_type": "code",
   "execution_count": 55,
   "id": "4f85be21",
   "metadata": {},
   "outputs": [
    {
     "data": {
      "text/plain": [
       "'Maria kessia oliveira'"
      ]
     },
     "execution_count": 55,
     "metadata": {},
     "output_type": "execute_result"
    }
   ],
   "source": [
    "x.capitalize() # Só a primeira letra do nome maiúsculo"
   ]
  },
  {
   "cell_type": "code",
   "execution_count": 57,
   "id": "53269d3a",
   "metadata": {},
   "outputs": [
    {
     "data": {
      "text/plain": [
       "4"
      ]
     },
     "execution_count": 57,
     "metadata": {},
     "output_type": "execute_result"
    }
   ],
   "source": [
    "x.count('a') # Conta quantas letras tem no nome (exemplo a letra a)"
   ]
  },
  {
   "cell_type": "code",
   "execution_count": 58,
   "id": "b46a770e",
   "metadata": {},
   "outputs": [
    {
     "data": {
      "text/plain": [
       "False"
      ]
     },
     "execution_count": 58,
     "metadata": {},
     "output_type": "execute_result"
    }
   ],
   "source": [
    "x.isalnum() # Perguntei se essa string é toda de número"
   ]
  },
  {
   "cell_type": "code",
   "execution_count": 60,
   "id": "3882105b",
   "metadata": {},
   "outputs": [
    {
     "data": {
      "text/plain": [
       "False"
      ]
     },
     "execution_count": 60,
     "metadata": {},
     "output_type": "execute_result"
    }
   ],
   "source": [
    "x.islower() # Perguntei se essa strings está com as letras todas minúsculas"
   ]
  },
  {
   "cell_type": "code",
   "execution_count": 61,
   "id": "0af5fcda",
   "metadata": {},
   "outputs": [
    {
     "data": {
      "text/plain": [
       "False"
      ]
     },
     "execution_count": 61,
     "metadata": {},
     "output_type": "execute_result"
    }
   ],
   "source": [
    "x.isspace() # Perguntei se essa strings é toda de espaço"
   ]
  },
  {
   "cell_type": "code",
   "execution_count": 62,
   "id": "855a128d",
   "metadata": {},
   "outputs": [
    {
     "data": {
      "text/plain": [
       "True"
      ]
     },
     "execution_count": 62,
     "metadata": {},
     "output_type": "execute_result"
    }
   ],
   "source": [
    "x.endswith('a') # Perguntei se essa strings termina com a letra a"
   ]
  },
  {
   "cell_type": "markdown",
   "id": "c0058221",
   "metadata": {},
   "source": [
    "Estruturas de dados Lista"
   ]
  },
  {
   "cell_type": "code",
   "execution_count": 94,
   "id": "e5111b7f",
   "metadata": {},
   "outputs": [
    {
     "data": {
      "text/plain": [
       "['laranja, uva, maçã']"
      ]
     },
     "execution_count": 94,
     "metadata": {},
     "output_type": "execute_result"
    }
   ],
   "source": [
    "s = ['laranja, uva, maçã'] # Uma lista de String com vários itens\n",
    "s"
   ]
  },
  {
   "cell_type": "code",
   "execution_count": 95,
   "id": "ce9178d3",
   "metadata": {},
   "outputs": [
    {
     "data": {
      "text/plain": [
       "['sapato', 'bolsa', 'cinto']"
      ]
     },
     "execution_count": 95,
     "metadata": {},
     "output_type": "execute_result"
    }
   ],
   "source": [
    "t = ['sapato', 'bolsa', 'cinto'] # Uma lista de várias strings\n",
    "t"
   ]
  },
  {
   "cell_type": "code",
   "execution_count": 98,
   "id": "87a90dfe",
   "metadata": {},
   "outputs": [
    {
     "data": {
      "text/plain": [
       "['sapato', 'bolsa', 'chapeu']"
      ]
     },
     "execution_count": 98,
     "metadata": {},
     "output_type": "execute_result"
    }
   ],
   "source": [
    "t[2] = 'chapeu' # substituí uma string da lista\n",
    "t"
   ]
  },
  {
   "cell_type": "code",
   "execution_count": 99,
   "id": "854dee93",
   "metadata": {},
   "outputs": [],
   "source": [
    "del t[1] # Deletando uma string da lista colocando o indice"
   ]
  },
  {
   "cell_type": "code",
   "execution_count": 101,
   "id": "c1a79981",
   "metadata": {},
   "outputs": [
    {
     "name": "stdout",
     "output_type": "stream",
     "text": [
      "['sapato', 'chapeu']\n"
     ]
    }
   ],
   "source": [
    "print(t)"
   ]
  },
  {
   "cell_type": "markdown",
   "id": "a102fe24",
   "metadata": {},
   "source": [
    "Listas Aninhadas"
   ]
  },
  {
   "cell_type": "code",
   "execution_count": 104,
   "id": "cddb933a",
   "metadata": {},
   "outputs": [],
   "source": [
    "lista = [ [1,2,3,4], [ 5,6,7,8], [9,10,11,12] ]"
   ]
  },
  {
   "cell_type": "code",
   "execution_count": 105,
   "id": "9fc9feb3",
   "metadata": {},
   "outputs": [
    {
     "name": "stdout",
     "output_type": "stream",
     "text": [
      "[[1, 2, 3, 4], [5, 6, 7, 8], [9, 10, 11, 12]]\n"
     ]
    }
   ],
   "source": [
    "print(lista)"
   ]
  },
  {
   "cell_type": "code",
   "execution_count": 106,
   "id": "be0006dd",
   "metadata": {},
   "outputs": [
    {
     "data": {
      "text/plain": [
       "[1, 2, 3, 4]"
      ]
     },
     "execution_count": 106,
     "metadata": {},
     "output_type": "execute_result"
    }
   ],
   "source": [
    "lista[0] # Index 0 da lista lista"
   ]
  },
  {
   "cell_type": "code",
   "execution_count": 107,
   "id": "007326d4",
   "metadata": {},
   "outputs": [
    {
     "data": {
      "text/plain": [
       "2"
      ]
     },
     "execution_count": 107,
     "metadata": {},
     "output_type": "execute_result"
    }
   ],
   "source": [
    "lista [0][1] # Index 0 da lista lista e index 1 do index 0"
   ]
  },
  {
   "cell_type": "code",
   "execution_count": 108,
   "id": "cde1ad27",
   "metadata": {},
   "outputs": [],
   "source": [
    "lis = 5 # Criei uma variável e abaixo fiz a soma com os index da lista lista"
   ]
  },
  {
   "cell_type": "code",
   "execution_count": 109,
   "id": "d6272fb9",
   "metadata": {},
   "outputs": [
    {
     "data": {
      "text/plain": [
       "15"
      ]
     },
     "execution_count": 109,
     "metadata": {},
     "output_type": "execute_result"
    }
   ],
   "source": [
    "lista[2][1] + lis"
   ]
  },
  {
   "cell_type": "markdown",
   "id": "bfd8d937",
   "metadata": {},
   "source": [
    "Concatenar Listas "
   ]
  },
  {
   "cell_type": "code",
   "execution_count": 111,
   "id": "760b5792",
   "metadata": {},
   "outputs": [],
   "source": [
    "list1 = [5, 6, 7, 8]"
   ]
  },
  {
   "cell_type": "code",
   "execution_count": 112,
   "id": "bb1562fd",
   "metadata": {},
   "outputs": [],
   "source": [
    "list2 = [9, 10, 11, 12]"
   ]
  },
  {
   "cell_type": "code",
   "execution_count": 113,
   "id": "d5446eab",
   "metadata": {},
   "outputs": [],
   "source": [
    "list_total = list1 + list2"
   ]
  },
  {
   "cell_type": "code",
   "execution_count": 114,
   "id": "24085b95",
   "metadata": {},
   "outputs": [
    {
     "data": {
      "text/plain": [
       "[5, 6, 7, 8, 9, 10, 11, 12]"
      ]
     },
     "execution_count": 114,
     "metadata": {},
     "output_type": "execute_result"
    }
   ],
   "source": [
    "list_total"
   ]
  },
  {
   "cell_type": "markdown",
   "id": "44b703ad",
   "metadata": {},
   "source": [
    "Operador in"
   ]
  },
  {
   "cell_type": "code",
   "execution_count": 115,
   "id": "e9148067",
   "metadata": {},
   "outputs": [],
   "source": [
    "a = [100, -5, 20, 200]"
   ]
  },
  {
   "cell_type": "code",
   "execution_count": 116,
   "id": "c3448941",
   "metadata": {},
   "outputs": [
    {
     "name": "stdout",
     "output_type": "stream",
     "text": [
      "False\n"
     ]
    }
   ],
   "source": [
    "print(10 in a) # in quer dizer dentro"
   ]
  },
  {
   "cell_type": "code",
   "execution_count": 117,
   "id": "ebea7e13",
   "metadata": {},
   "outputs": [
    {
     "name": "stdout",
     "output_type": "stream",
     "text": [
      "True\n"
     ]
    }
   ],
   "source": [
    "print(100 in a) # in quer dizer dentro"
   ]
  },
  {
   "cell_type": "markdown",
   "id": "43ef1449",
   "metadata": {},
   "source": [
    "Mais Funções Built-in"
   ]
  },
  {
   "cell_type": "code",
   "execution_count": 118,
   "id": "aa629621",
   "metadata": {},
   "outputs": [],
   "source": [
    "b = [3,5,6,7,8]"
   ]
  },
  {
   "cell_type": "code",
   "execution_count": 119,
   "id": "f9a85bb0",
   "metadata": {},
   "outputs": [
    {
     "data": {
      "text/plain": [
       "5"
      ]
     },
     "execution_count": 119,
     "metadata": {},
     "output_type": "execute_result"
    }
   ],
   "source": [
    "len(b)  # len informa o tamanho da lista"
   ]
  },
  {
   "cell_type": "code",
   "execution_count": 120,
   "id": "e6aac5ea",
   "metadata": {},
   "outputs": [
    {
     "data": {
      "text/plain": [
       "8"
      ]
     },
     "execution_count": 120,
     "metadata": {},
     "output_type": "execute_result"
    }
   ],
   "source": [
    "max(b) # Maior valor"
   ]
  },
  {
   "cell_type": "code",
   "execution_count": 121,
   "id": "e2cc0aca",
   "metadata": {},
   "outputs": [
    {
     "data": {
      "text/plain": [
       "3"
      ]
     },
     "execution_count": 121,
     "metadata": {},
     "output_type": "execute_result"
    }
   ],
   "source": [
    "min(b) # Menor valor"
   ]
  },
  {
   "cell_type": "code",
   "execution_count": 177,
   "id": "5359c02e",
   "metadata": {},
   "outputs": [],
   "source": [
    "b.append(15) # Acrescentando mais um item - append"
   ]
  },
  {
   "cell_type": "code",
   "execution_count": 123,
   "id": "8a2899a0",
   "metadata": {},
   "outputs": [
    {
     "data": {
      "text/plain": [
       "[3, 5, 6, 7, 8, 15]"
      ]
     },
     "execution_count": 123,
     "metadata": {},
     "output_type": "execute_result"
    }
   ],
   "source": [
    "b"
   ]
  },
  {
   "cell_type": "code",
   "execution_count": 124,
   "id": "e30f5aa0",
   "metadata": {},
   "outputs": [],
   "source": [
    "b.append(15)"
   ]
  },
  {
   "cell_type": "code",
   "execution_count": 125,
   "id": "8ff98ff4",
   "metadata": {},
   "outputs": [
    {
     "data": {
      "text/plain": [
       "[3, 5, 6, 7, 8, 15, 15]"
      ]
     },
     "execution_count": 125,
     "metadata": {},
     "output_type": "execute_result"
    }
   ],
   "source": [
    "b"
   ]
  },
  {
   "cell_type": "code",
   "execution_count": 178,
   "id": "cee67556",
   "metadata": {},
   "outputs": [
    {
     "data": {
      "text/plain": [
       "3"
      ]
     },
     "execution_count": 178,
     "metadata": {},
     "output_type": "execute_result"
    }
   ],
   "source": [
    "b.count(15) # Contar quantas x aparece o item na lista - count"
   ]
  },
  {
   "cell_type": "markdown",
   "id": "45f35cec",
   "metadata": {},
   "source": [
    "Loop"
   ]
  },
  {
   "cell_type": "code",
   "execution_count": 151,
   "id": "2391b07d",
   "metadata": {},
   "outputs": [
    {
     "name": "stdout",
     "output_type": "stream",
     "text": [
      "[1, 2, 3, 4]\n"
     ]
    }
   ],
   "source": [
    "K = [1,2,3,4]\n",
    "print(K)"
   ]
  },
  {
   "cell_type": "code",
   "execution_count": 152,
   "id": "ed6f1108",
   "metadata": {},
   "outputs": [
    {
     "name": "stdout",
     "output_type": "stream",
     "text": [
      "[]\n"
     ]
    }
   ],
   "source": [
    "L = []\n",
    "print(L)"
   ]
  },
  {
   "cell_type": "code",
   "execution_count": 153,
   "id": "cd1d23f8",
   "metadata": {},
   "outputs": [],
   "source": [
    " for i in K:\n",
    "    L.append(i) "
   ]
  },
  {
   "cell_type": "code",
   "execution_count": 154,
   "id": "9b5e6bda",
   "metadata": {},
   "outputs": [
    {
     "name": "stdout",
     "output_type": "stream",
     "text": [
      "[1, 2, 3, 4]\n"
     ]
    }
   ],
   "source": [
    "print(L)  "
   ]
  },
  {
   "cell_type": "markdown",
   "id": "82c190e0",
   "metadata": {},
   "source": [
    "Estender a Lista - extend"
   ]
  },
  {
   "cell_type": "code",
   "execution_count": 162,
   "id": "619233d7",
   "metadata": {},
   "outputs": [
    {
     "data": {
      "text/plain": [
       "['João Pessoa', 'Recife', 'Natal']"
      ]
     },
     "execution_count": 162,
     "metadata": {},
     "output_type": "execute_result"
    }
   ],
   "source": [
    "cidades = ['João Pessoa', 'Recife', 'Natal']\n",
    "cidades"
   ]
  },
  {
   "cell_type": "code",
   "execution_count": 163,
   "id": "d4390bb6",
   "metadata": {},
   "outputs": [],
   "source": [
    "cidades.extend(['Ceará', 'Bahía'])"
   ]
  },
  {
   "cell_type": "code",
   "execution_count": 164,
   "id": "67189c30",
   "metadata": {},
   "outputs": [
    {
     "name": "stdout",
     "output_type": "stream",
     "text": [
      "['João Pessoa', 'Recife', 'Natal', 'Ceará', 'Bahía']\n"
     ]
    }
   ],
   "source": [
    "print(cidades)"
   ]
  },
  {
   "cell_type": "markdown",
   "id": "cdaf6db7",
   "metadata": {},
   "source": [
    "Saber qual indice na lista - index"
   ]
  },
  {
   "cell_type": "code",
   "execution_count": 165,
   "id": "9dfd2ca9",
   "metadata": {},
   "outputs": [
    {
     "data": {
      "text/plain": [
       "2"
      ]
     },
     "execution_count": 165,
     "metadata": {},
     "output_type": "execute_result"
    }
   ],
   "source": [
    "cidades.index('Natal')"
   ]
  },
  {
   "cell_type": "markdown",
   "id": "369d5d82",
   "metadata": {},
   "source": [
    "Inserir algum item na lista - Primeiro informa em qual indice vc quer inserir o item e depois coloca o item - insert"
   ]
  },
  {
   "cell_type": "code",
   "execution_count": 166,
   "id": "0282ea61",
   "metadata": {},
   "outputs": [],
   "source": [
    "cidades.insert(2, 110)"
   ]
  },
  {
   "cell_type": "code",
   "execution_count": 167,
   "id": "68bf4ebf",
   "metadata": {},
   "outputs": [
    {
     "name": "stdout",
     "output_type": "stream",
     "text": [
      "['João Pessoa', 'Recife', 110, 'Natal', 'Ceará', 'Bahía']\n"
     ]
    }
   ],
   "source": [
    "print(cidades)"
   ]
  },
  {
   "cell_type": "markdown",
   "id": "da1e6df8",
   "metadata": {},
   "source": [
    "Remover item da lista - remove"
   ]
  },
  {
   "cell_type": "code",
   "execution_count": 168,
   "id": "8b9eca73",
   "metadata": {},
   "outputs": [],
   "source": [
    "cidades.remove(110)"
   ]
  },
  {
   "cell_type": "code",
   "execution_count": 170,
   "id": "f4ffd2e7",
   "metadata": {},
   "outputs": [
    {
     "name": "stdout",
     "output_type": "stream",
     "text": [
      "['João Pessoa', 'Recife', 'Natal', 'Ceará', 'Bahía']\n"
     ]
    }
   ],
   "source": [
    "print(cidades)"
   ]
  },
  {
   "cell_type": "markdown",
   "id": "924e54d5",
   "metadata": {},
   "source": [
    "Revereter a lista de trás pra frente e virse e verso - reverse"
   ]
  },
  {
   "cell_type": "code",
   "execution_count": 171,
   "id": "cc2cd18f",
   "metadata": {},
   "outputs": [],
   "source": [
    "cidades.reverse()"
   ]
  },
  {
   "cell_type": "code",
   "execution_count": 172,
   "id": "9df115d5",
   "metadata": {},
   "outputs": [
    {
     "name": "stdout",
     "output_type": "stream",
     "text": [
      "['Bahía', 'Ceará', 'Natal', 'Recife', 'João Pessoa']\n"
     ]
    }
   ],
   "source": [
    "print(cidades)"
   ]
  },
  {
   "cell_type": "markdown",
   "id": "0e651184",
   "metadata": {},
   "source": [
    "Ordenar a lista - sort"
   ]
  },
  {
   "cell_type": "code",
   "execution_count": 173,
   "id": "4ffef1af",
   "metadata": {},
   "outputs": [],
   "source": [
    "v = [6,5,4,3,2,1]"
   ]
  },
  {
   "cell_type": "code",
   "execution_count": 174,
   "id": "a64abf10",
   "metadata": {},
   "outputs": [
    {
     "data": {
      "text/plain": [
       "[6, 5, 4, 3, 2, 1]"
      ]
     },
     "execution_count": 174,
     "metadata": {},
     "output_type": "execute_result"
    }
   ],
   "source": [
    "v"
   ]
  },
  {
   "cell_type": "code",
   "execution_count": 175,
   "id": "4b863666",
   "metadata": {},
   "outputs": [],
   "source": [
    "v.sort()"
   ]
  },
  {
   "cell_type": "code",
   "execution_count": 176,
   "id": "7e6bba8c",
   "metadata": {},
   "outputs": [
    {
     "data": {
      "text/plain": [
       "[1, 2, 3, 4, 5, 6]"
      ]
     },
     "execution_count": 176,
     "metadata": {},
     "output_type": "execute_result"
    }
   ],
   "source": [
    "v"
   ]
  },
  {
   "cell_type": "markdown",
   "id": "66b27db9",
   "metadata": {},
   "source": [
    "Dicionário"
   ]
  },
  {
   "cell_type": "code",
   "execution_count": 5,
   "id": "02428cdc",
   "metadata": {},
   "outputs": [],
   "source": [
    "dic = {'Davi': 39, 'Kessia' : 39, 'Grazi': 26}"
   ]
  },
  {
   "cell_type": "code",
   "execution_count": 6,
   "id": "19c5c376",
   "metadata": {},
   "outputs": [
    {
     "data": {
      "text/plain": [
       "26"
      ]
     },
     "execution_count": 6,
     "metadata": {},
     "output_type": "execute_result"
    }
   ],
   "source": [
    "dic['Grazi']"
   ]
  },
  {
   "cell_type": "markdown",
   "id": "da3cfe95",
   "metadata": {},
   "source": [
    "Acrescentar mais uma chave e valor no dicionário"
   ]
  },
  {
   "cell_type": "code",
   "execution_count": 7,
   "id": "77394982",
   "metadata": {},
   "outputs": [],
   "source": [
    "dic ['Tiago'] = 32"
   ]
  },
  {
   "cell_type": "code",
   "execution_count": 8,
   "id": "e92fef5a",
   "metadata": {},
   "outputs": [
    {
     "data": {
      "text/plain": [
       "{'Davi': 39, 'Kessia': 39, 'Grazi': 26, 'Tiago': 32}"
      ]
     },
     "execution_count": 8,
     "metadata": {},
     "output_type": "execute_result"
    }
   ],
   "source": [
    "dic"
   ]
  },
  {
   "cell_type": "code",
   "execution_count": 9,
   "id": "1b3ca635",
   "metadata": {},
   "outputs": [
    {
     "data": {
      "text/plain": [
       "32"
      ]
     },
     "execution_count": 9,
     "metadata": {},
     "output_type": "execute_result"
    }
   ],
   "source": [
    "dic['Tiago']"
   ]
  },
  {
   "cell_type": "raw",
   "id": "d3418710",
   "metadata": {},
   "source": [
    "Limpar dicionário com o método (clear)"
   ]
  },
  {
   "cell_type": "code",
   "execution_count": 11,
   "id": "a309b0fe",
   "metadata": {},
   "outputs": [],
   "source": [
    "dic.clear()"
   ]
  },
  {
   "cell_type": "code",
   "execution_count": 12,
   "id": "1c1a9e26",
   "metadata": {},
   "outputs": [
    {
     "data": {
      "text/plain": [
       "{}"
      ]
     },
     "execution_count": 12,
     "metadata": {},
     "output_type": "execute_result"
    }
   ],
   "source": [
    "dic"
   ]
  },
  {
   "cell_type": "markdown",
   "id": "b21912ca",
   "metadata": {},
   "source": [
    "Deletar dicionário"
   ]
  },
  {
   "cell_type": "code",
   "execution_count": 13,
   "id": "0e623ad7",
   "metadata": {},
   "outputs": [],
   "source": [
    "del dic"
   ]
  },
  {
   "cell_type": "code",
   "execution_count": 14,
   "id": "96656a99",
   "metadata": {},
   "outputs": [
    {
     "ename": "NameError",
     "evalue": "name 'dic' is not defined",
     "output_type": "error",
     "traceback": [
      "\u001b[1;31m---------------------------------------------------------------------------\u001b[0m",
      "\u001b[1;31mNameError\u001b[0m                                 Traceback (most recent call last)",
      "Cell \u001b[1;32mIn[14], line 1\u001b[0m\n\u001b[1;32m----> 1\u001b[0m \u001b[43mdic\u001b[49m\n",
      "\u001b[1;31mNameError\u001b[0m: name 'dic' is not defined"
     ]
    }
   ],
   "source": [
    "dic"
   ]
  },
  {
   "cell_type": "markdown",
   "id": "724bd0a3",
   "metadata": {},
   "source": [
    "Criando novo dicionário"
   ]
  },
  {
   "cell_type": "code",
   "execution_count": 19,
   "id": "924259aa",
   "metadata": {},
   "outputs": [],
   "source": [
    "estudantes = {'Davi': 39, 'Kessia': 39, 'Tiago': 39, 'Grazi': 27}"
   ]
  },
  {
   "cell_type": "markdown",
   "id": "b9684a3a",
   "metadata": {},
   "source": [
    "Verificar quantidade de elementos do dicionário com a função Built-in (len)"
   ]
  },
  {
   "cell_type": "code",
   "execution_count": 18,
   "id": "76d38683",
   "metadata": {},
   "outputs": [
    {
     "data": {
      "text/plain": [
       "4"
      ]
     },
     "execution_count": 18,
     "metadata": {},
     "output_type": "execute_result"
    }
   ],
   "source": [
    "len(estudantes)"
   ]
  },
  {
   "cell_type": "markdown",
   "id": "d9b0ce21",
   "metadata": {},
   "source": [
    "Retornar somente as chaves com o (keys)"
   ]
  },
  {
   "cell_type": "code",
   "execution_count": 20,
   "id": "04de7ce9",
   "metadata": {},
   "outputs": [
    {
     "data": {
      "text/plain": [
       "dict_keys(['Davi', 'Kessia', 'Tiago', 'Grazi'])"
      ]
     },
     "execution_count": 20,
     "metadata": {},
     "output_type": "execute_result"
    }
   ],
   "source": [
    "estudantes.keys()"
   ]
  },
  {
   "cell_type": "markdown",
   "id": "e06d29f7",
   "metadata": {},
   "source": [
    "Retornar somente os valores com o (values)"
   ]
  },
  {
   "cell_type": "code",
   "execution_count": 21,
   "id": "295ed8d9",
   "metadata": {},
   "outputs": [
    {
     "data": {
      "text/plain": [
       "dict_values([39, 39, 39, 27])"
      ]
     },
     "execution_count": 21,
     "metadata": {},
     "output_type": "execute_result"
    }
   ],
   "source": [
    "estudantes.values()"
   ]
  },
  {
   "cell_type": "markdown",
   "id": "0a6397aa",
   "metadata": {},
   "source": [
    "Retornar somente os itens com o (items)"
   ]
  },
  {
   "cell_type": "code",
   "execution_count": 23,
   "id": "53d4084f",
   "metadata": {},
   "outputs": [
    {
     "data": {
      "text/plain": [
       "dict_items([('Davi', 39), ('Kessia', 39), ('Tiago', 39), ('Grazi', 27)])"
      ]
     },
     "execution_count": 23,
     "metadata": {},
     "output_type": "execute_result"
    }
   ],
   "source": [
    "estudantes.items()"
   ]
  },
  {
   "cell_type": "markdown",
   "id": "656d5fd8",
   "metadata": {},
   "source": [
    "Almentar a quantidade de estudante juntando 2 dicionádios com (update)"
   ]
  },
  {
   "cell_type": "code",
   "execution_count": 24,
   "id": "30b4d0e4",
   "metadata": {},
   "outputs": [],
   "source": [
    "estudantes2 = {'Vamberto': 39, 'Sandra': 34, 'Giovana': 15}"
   ]
  },
  {
   "cell_type": "code",
   "execution_count": 25,
   "id": "5e48094f",
   "metadata": {},
   "outputs": [],
   "source": [
    "estudantes.update(estudantes2)"
   ]
  },
  {
   "cell_type": "code",
   "execution_count": 26,
   "id": "ff23fa63",
   "metadata": {},
   "outputs": [
    {
     "data": {
      "text/plain": [
       "{'Davi': 39,\n",
       " 'Kessia': 39,\n",
       " 'Tiago': 39,\n",
       " 'Grazi': 27,\n",
       " 'Vamberto': 39,\n",
       " 'Sandra': 34,\n",
       " 'Giovana': 15}"
      ]
     },
     "execution_count": 26,
     "metadata": {},
     "output_type": "execute_result"
    }
   ],
   "source": [
    "estudantes"
   ]
  },
  {
   "cell_type": "markdown",
   "id": "48813637",
   "metadata": {},
   "source": [
    "Construindo dicionário vazio"
   ]
  },
  {
   "cell_type": "code",
   "execution_count": 29,
   "id": "23555b15",
   "metadata": {},
   "outputs": [],
   "source": [
    "dic1 = {}"
   ]
  },
  {
   "cell_type": "code",
   "execution_count": 30,
   "id": "442a78da",
   "metadata": {},
   "outputs": [
    {
     "data": {
      "text/plain": [
       "{}"
      ]
     },
     "execution_count": 30,
     "metadata": {},
     "output_type": "execute_result"
    }
   ],
   "source": [
    "dic1"
   ]
  },
  {
   "cell_type": "markdown",
   "id": "98aa5bd1",
   "metadata": {},
   "source": [
    "Adicionando chave e valores no dicionário"
   ]
  },
  {
   "cell_type": "code",
   "execution_count": 32,
   "id": "45eaf7a8",
   "metadata": {},
   "outputs": [],
   "source": [
    "dic1['Felipe'] = 32"
   ]
  },
  {
   "cell_type": "code",
   "execution_count": 33,
   "id": "cdc63c6b",
   "metadata": {},
   "outputs": [
    {
     "data": {
      "text/plain": [
       "{'Felipe': 32}"
      ]
     },
     "execution_count": 33,
     "metadata": {},
     "output_type": "execute_result"
    }
   ],
   "source": [
    "dic1"
   ]
  },
  {
   "cell_type": "code",
   "execution_count": 34,
   "id": "5069954b",
   "metadata": {},
   "outputs": [],
   "source": [
    "dic1 [10] = 5"
   ]
  },
  {
   "cell_type": "code",
   "execution_count": 35,
   "id": "25d54e88",
   "metadata": {},
   "outputs": [
    {
     "data": {
      "text/plain": [
       "{'Felipe': 32, 10: 5}"
      ]
     },
     "execution_count": 35,
     "metadata": {},
     "output_type": "execute_result"
    }
   ],
   "source": [
    "dic1"
   ]
  },
  {
   "cell_type": "code",
   "execution_count": 36,
   "id": "5e3ffdc1",
   "metadata": {},
   "outputs": [],
   "source": [
    "dic1[10,5] = 3"
   ]
  },
  {
   "cell_type": "code",
   "execution_count": 37,
   "id": "13da2559",
   "metadata": {},
   "outputs": [
    {
     "data": {
      "text/plain": [
       "{'Felipe': 32, 10: 5, (10, 5): 3}"
      ]
     },
     "execution_count": 37,
     "metadata": {},
     "output_type": "execute_result"
    }
   ],
   "source": [
    "dic1"
   ]
  },
  {
   "cell_type": "code",
   "execution_count": 51,
   "id": "f647857c",
   "metadata": {},
   "outputs": [],
   "source": [
    "dict2 = {}"
   ]
  },
  {
   "cell_type": "code",
   "execution_count": 52,
   "id": "9f6acf82",
   "metadata": {},
   "outputs": [
    {
     "data": {
      "text/plain": [
       "{}"
      ]
     },
     "execution_count": 52,
     "metadata": {},
     "output_type": "execute_result"
    }
   ],
   "source": [
    "dict2"
   ]
  },
  {
   "cell_type": "code",
   "execution_count": 53,
   "id": "211babdf",
   "metadata": {},
   "outputs": [],
   "source": [
    "dict2 ['key1'] = 'Data Science'"
   ]
  },
  {
   "cell_type": "code",
   "execution_count": 54,
   "id": "e3b7f452",
   "metadata": {},
   "outputs": [],
   "source": [
    "dict2 ['key2'] = 10"
   ]
  },
  {
   "cell_type": "code",
   "execution_count": 56,
   "id": "258ef996",
   "metadata": {},
   "outputs": [],
   "source": [
    "dict2 ['key3'] = 100"
   ]
  },
  {
   "cell_type": "code",
   "execution_count": 57,
   "id": "fbce9374",
   "metadata": {},
   "outputs": [
    {
     "data": {
      "text/plain": [
       "{'key1': 'Data Science', 'key2': 10, 'key3': 100}"
      ]
     },
     "execution_count": 57,
     "metadata": {},
     "output_type": "execute_result"
    }
   ],
   "source": [
    "dict2"
   ]
  },
  {
   "cell_type": "code",
   "execution_count": 58,
   "id": "93514381",
   "metadata": {},
   "outputs": [],
   "source": [
    "a = dict2 ['key1']"
   ]
  },
  {
   "cell_type": "code",
   "execution_count": 59,
   "id": "a0325451",
   "metadata": {},
   "outputs": [],
   "source": [
    "b = dict2 ['key2']"
   ]
  },
  {
   "cell_type": "code",
   "execution_count": 60,
   "id": "51025f6a",
   "metadata": {},
   "outputs": [],
   "source": [
    "c = dict2 ['key3']"
   ]
  },
  {
   "cell_type": "code",
   "execution_count": 61,
   "id": "110b0e3b",
   "metadata": {},
   "outputs": [
    {
     "data": {
      "text/plain": [
       "('Data Science', 10, 100)"
      ]
     },
     "execution_count": 61,
     "metadata": {},
     "output_type": "execute_result"
    }
   ],
   "source": [
    "a, b, c"
   ]
  },
  {
   "cell_type": "markdown",
   "id": "950eccf2",
   "metadata": {},
   "source": [
    "Dicionário de listas"
   ]
  },
  {
   "cell_type": "code",
   "execution_count": 72,
   "id": "7fd73967",
   "metadata": {},
   "outputs": [],
   "source": [
    "dict3 = {'chave1': 1230, 'chave2': [22,456,354,25], 'chave3' : ['Picanha', 'fraldinha', 'alcatara']}"
   ]
  },
  {
   "cell_type": "code",
   "execution_count": 73,
   "id": "2b59d071",
   "metadata": {},
   "outputs": [
    {
     "data": {
      "text/plain": [
       "{'chave1': 1230,\n",
       " 'chave2': [22, 456, 354, 25],\n",
       " 'chave3': ['Picanha', 'fraldinha', 'alcatara']}"
      ]
     },
     "execution_count": 73,
     "metadata": {},
     "output_type": "execute_result"
    }
   ],
   "source": [
    "dict3"
   ]
  },
  {
   "cell_type": "code",
   "execution_count": 74,
   "id": "33162c48",
   "metadata": {},
   "outputs": [
    {
     "data": {
      "text/plain": [
       "[22, 456, 354, 25]"
      ]
     },
     "execution_count": 74,
     "metadata": {},
     "output_type": "execute_result"
    }
   ],
   "source": [
    "dict3 ['chave2']"
   ]
  },
  {
   "cell_type": "markdown",
   "id": "25938aec",
   "metadata": {},
   "source": [
    "Usando a criatividade - alterando por exemplo o nome picanha na lista do dicionario para maiúsculo"
   ]
  },
  {
   "cell_type": "code",
   "execution_count": 75,
   "id": "a0c37f54",
   "metadata": {},
   "outputs": [
    {
     "data": {
      "text/plain": [
       "'PICANHA'"
      ]
     },
     "execution_count": 75,
     "metadata": {},
     "output_type": "execute_result"
    }
   ],
   "source": [
    "dict3['chave3'][0].upper()"
   ]
  },
  {
   "cell_type": "code",
   "execution_count": 76,
   "id": "441b566b",
   "metadata": {},
   "outputs": [],
   "source": [
    "val = dict3['chave2'][0] - 2"
   ]
  },
  {
   "cell_type": "code",
   "execution_count": 77,
   "id": "200e5dfd",
   "metadata": {},
   "outputs": [
    {
     "data": {
      "text/plain": [
       "20"
      ]
     },
     "execution_count": 77,
     "metadata": {},
     "output_type": "execute_result"
    }
   ],
   "source": [
    "val"
   ]
  },
  {
   "cell_type": "code",
   "execution_count": 78,
   "id": "918fd5b8",
   "metadata": {},
   "outputs": [],
   "source": [
    "dict3['chave2'][0] -= 2"
   ]
  },
  {
   "cell_type": "code",
   "execution_count": 79,
   "id": "ae54647f",
   "metadata": {},
   "outputs": [
    {
     "data": {
      "text/plain": [
       "{'chave1': 1230,\n",
       " 'chave2': [20, 456, 354, 25],\n",
       " 'chave3': ['Picanha', 'fraldinha', 'alcatara']}"
      ]
     },
     "execution_count": 79,
     "metadata": {},
     "output_type": "execute_result"
    }
   ],
   "source": [
    "dict3"
   ]
  },
  {
   "cell_type": "markdown",
   "id": "8e19750d",
   "metadata": {},
   "source": [
    "Trabalhando com as Tuplas - Estutura imutável"
   ]
  },
  {
   "cell_type": "code",
   "execution_count": 80,
   "id": "6c8ae195",
   "metadata": {},
   "outputs": [],
   "source": [
    "tupla1 = ('Elefante', 22, 'chuva', 10.50, 'python')"
   ]
  },
  {
   "cell_type": "code",
   "execution_count": 81,
   "id": "7e0c211b",
   "metadata": {},
   "outputs": [
    {
     "data": {
      "text/plain": [
       "('Elefante', 22, 'chuva', 10.5, 'python')"
      ]
     },
     "execution_count": 81,
     "metadata": {},
     "output_type": "execute_result"
    }
   ],
   "source": [
    "tupla1"
   ]
  },
  {
   "cell_type": "code",
   "execution_count": 85,
   "id": "73f4c964",
   "metadata": {},
   "outputs": [
    {
     "ename": "AttributeError",
     "evalue": "'tuple' object has no attribute 'append'",
     "output_type": "error",
     "traceback": [
      "\u001b[1;31m---------------------------------------------------------------------------\u001b[0m",
      "\u001b[1;31mAttributeError\u001b[0m                            Traceback (most recent call last)",
      "Cell \u001b[1;32mIn[85], line 1\u001b[0m\n\u001b[1;32m----> 1\u001b[0m \u001b[43mtupla1\u001b[49m\u001b[38;5;241;43m.\u001b[39;49m\u001b[43mappend\u001b[49m(\u001b[38;5;124m'\u001b[39m\u001b[38;5;124mchocolate\u001b[39m\u001b[38;5;124m'\u001b[39m)\n",
      "\u001b[1;31mAttributeError\u001b[0m: 'tuple' object has no attribute 'append'"
     ]
    }
   ],
   "source": [
    "tupla1.append('chocolate') # Por ser imutável não consigo fazer nenhum tipo de transformação"
   ]
  },
  {
   "cell_type": "markdown",
   "id": "7722fec5",
   "metadata": {},
   "source": [
    "Para modidicar tupla só transformando em lista"
   ]
  },
  {
   "cell_type": "code",
   "execution_count": 95,
   "id": "112ed366",
   "metadata": {},
   "outputs": [],
   "source": [
    "t2 = ('a', 'b', 'c')"
   ]
  },
  {
   "cell_type": "code",
   "execution_count": 96,
   "id": "60dfdc61",
   "metadata": {},
   "outputs": [
    {
     "data": {
      "text/plain": [
       "('a', 'b', 'c')"
      ]
     },
     "execution_count": 96,
     "metadata": {},
     "output_type": "execute_result"
    }
   ],
   "source": [
    "t2"
   ]
  },
  {
   "cell_type": "code",
   "execution_count": 97,
   "id": "a2fd99a8",
   "metadata": {},
   "outputs": [],
   "source": [
    "t2 = list(t2)"
   ]
  },
  {
   "cell_type": "code",
   "execution_count": 98,
   "id": "72e8b626",
   "metadata": {},
   "outputs": [
    {
     "data": {
      "text/plain": [
       "list"
      ]
     },
     "execution_count": 98,
     "metadata": {},
     "output_type": "execute_result"
    }
   ],
   "source": [
    "type(t2)"
   ]
  },
  {
   "cell_type": "code",
   "execution_count": 99,
   "id": "1cf8fd74",
   "metadata": {},
   "outputs": [],
   "source": [
    "t2.append('D')"
   ]
  },
  {
   "cell_type": "code",
   "execution_count": 101,
   "id": "218a0ad7",
   "metadata": {},
   "outputs": [
    {
     "data": {
      "text/plain": [
       "['a', 'b', 'c', 'D']"
      ]
     },
     "execution_count": 101,
     "metadata": {},
     "output_type": "execute_result"
    }
   ],
   "source": [
    "t2"
   ]
  },
  {
   "cell_type": "markdown",
   "id": "9fb13cec",
   "metadata": {},
   "source": [
    "Convertendo para Tupla após a transformação"
   ]
  },
  {
   "cell_type": "code",
   "execution_count": 102,
   "id": "8e8df647",
   "metadata": {},
   "outputs": [],
   "source": [
    "t2 = tuple(t2)"
   ]
  },
  {
   "cell_type": "code",
   "execution_count": 103,
   "id": "fba388ca",
   "metadata": {},
   "outputs": [
    {
     "data": {
      "text/plain": [
       "tuple"
      ]
     },
     "execution_count": 103,
     "metadata": {},
     "output_type": "execute_result"
    }
   ],
   "source": [
    "type(t2)"
   ]
  },
  {
   "cell_type": "code",
   "execution_count": null,
   "id": "2e13f711",
   "metadata": {},
   "outputs": [],
   "source": []
  }
 ],
 "metadata": {
  "kernelspec": {
   "display_name": "Python 3 (ipykernel)",
   "language": "python",
   "name": "python3"
  },
  "language_info": {
   "codemirror_mode": {
    "name": "ipython",
    "version": 3
   },
   "file_extension": ".py",
   "mimetype": "text/x-python",
   "name": "python",
   "nbconvert_exporter": "python",
   "pygments_lexer": "ipython3",
   "version": "3.10.9"
  }
 },
 "nbformat": 4,
 "nbformat_minor": 5
}
